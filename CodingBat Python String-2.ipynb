{
 "cells": [
  {
   "cell_type": "markdown",
   "metadata": {},
   "source": [
    "https://codingbat.com/python/String-2\n",
    "\n",
    "Medium python string problems -- 1 loop.. Use + to combine strings, len(str) is the number of chars in a String, str[i:j] extracts the substring starting at index i and running up to but not including index j."
   ]
  },
  {
   "cell_type": "markdown",
   "metadata": {},
   "source": [
    "### String-2 > double_char \n",
    "\n",
    "Given a string, return a string where for every char in the original, there are two chars.\n",
    "\n",
    "\n",
    "- double_char('The') → 'TThhee'\n",
    "- double_char('AAbb') → 'AAAAbbbb'\n",
    "- double_char('Hi-There') → 'HHii--TThheerree'"
   ]
  },
  {
   "cell_type": "code",
   "execution_count": 2,
   "metadata": {},
   "outputs": [],
   "source": [
    "def double_char(str):\n",
    "    result=''\n",
    "    for i in range(len(str)):\n",
    "        result += str[i]+str[i]\n",
    "    return result"
   ]
  },
  {
   "cell_type": "code",
   "execution_count": 4,
   "metadata": {},
   "outputs": [
    {
     "name": "stdout",
     "output_type": "stream",
     "text": [
      "[0, 0, 0, 0, 0, 0, 0, 0, 0, 0]\n"
     ]
    }
   ],
   "source": [
    "# another way of writing --> result += str[i]+str[i]\n",
    "# is the following --> result += str[i] * 2\n",
    "\n",
    "# this is a quick way to initialise an array with 10 zeros for example\n",
    "a = [0]*10\n",
    "print(a)"
   ]
  },
  {
   "cell_type": "markdown",
   "metadata": {},
   "source": [
    "### String-2 > count_code \n",
    "\n",
    "Return the number of times that the string \"code\" appears anywhere in the given string, except we'll accept any letter for the 'd', so \"cope\" and \"cooe\" count.\n",
    "\n",
    "\n",
    "- count_code('aaacodebbb') → 1\n",
    "- count_code('codexxcode') → 2\n",
    "- count_code('cozexxcope') → 2"
   ]
  },
  {
   "cell_type": "code",
   "execution_count": 5,
   "metadata": {},
   "outputs": [],
   "source": [
    "def count_code(str):\n",
    "    count = 0\n",
    "    for i in range(len(str)-3):\n",
    "        if str[i]=='c' and str[i+1]=='o' and str[i+3]=='e':\n",
    "            count +=1\n",
    "    return count"
   ]
  },
  {
   "cell_type": "markdown",
   "metadata": {},
   "source": [
    "### String-2 > count_hi \n",
    "\n",
    "Return the number of times that the string \"hi\" appears anywhere in the given string.\n",
    "\n",
    "\n",
    "- count_hi('abc hi ho') → 1\n",
    "- count_hi('ABChi hi') → 2\n",
    "- count_hi('hihi') → 2"
   ]
  },
  {
   "cell_type": "code",
   "execution_count": 6,
   "metadata": {},
   "outputs": [],
   "source": [
    "def count_hi(str):\n",
    "    count = 0\n",
    "    for i in range(len(str)-1):\n",
    "        if str[i]=='h' and str[i+1]=='i':\n",
    "            count += 1\n",
    "    return count"
   ]
  },
  {
   "cell_type": "code",
   "execution_count": 7,
   "metadata": {},
   "outputs": [],
   "source": [
    "# better solution\n",
    "\n",
    "def count_hi(str):\n",
    "    sum = 0\n",
    "  ## Loop to length-1 and access index i and i+1\n",
    "  ## in the loop.\n",
    "    for i in range(len(str)-1):\n",
    "        if str[i:i+2] == 'hi':\n",
    "            sum = sum + 1\n",
    "    return sum"
   ]
  },
  {
   "cell_type": "markdown",
   "metadata": {},
   "source": [
    "### String-2 > end_other \n",
    "\n",
    "Given two strings, return True if either of the strings appears at the very end of the other string, ignoring upper/lower case differences (in other words, the computation should not be \"case sensitive\"). Note: s.lower() returns the lowercase version of a string.\n",
    "\n",
    "\n",
    "- end_other('Hiabc', 'abc') → True\n",
    "- end_other('AbC', 'HiaBc') → True\n",
    "- end_other('abc', 'abXabc') → True"
   ]
  },
  {
   "cell_type": "code",
   "execution_count": 9,
   "metadata": {},
   "outputs": [],
   "source": [
    "def end_other(a, b):\n",
    "    return a[-len(b):].lower() == b.lower() or b[-len(a):].lower() == a.lower()"
   ]
  },
  {
   "cell_type": "code",
   "execution_count": 10,
   "metadata": {},
   "outputs": [],
   "source": [
    "# better solution\n",
    "\n",
    "def end_other(a, b):\n",
    "    a = a.lower()\n",
    "    b = b.lower()\n",
    "    return (b.endswith(a) or a.endswith(b))\n"
   ]
  },
  {
   "cell_type": "markdown",
   "metadata": {},
   "source": [
    "### String-2 > cat_dog \n",
    "\n",
    "Return True if the string \"cat\" and \"dog\" appear the same number of times in the given string.\n",
    "\n",
    "\n",
    "- cat_dog('catdog') → True\n",
    "- cat_dog('catcat') → False\n",
    "- cat_dog('1cat1cadodog') → True"
   ]
  },
  {
   "cell_type": "code",
   "execution_count": 11,
   "metadata": {},
   "outputs": [],
   "source": [
    "def cat_dog(str):\n",
    "    cat_count = 0\n",
    "    dog_count = 0\n",
    "    for i in range(len(str)-2):\n",
    "        if str[i:i+3] == 'cat' : cat_count += 1\n",
    "        if str[i:i+3] == 'dog' : dog_count += 1\n",
    "    return cat_count == dog_count"
   ]
  },
  {
   "cell_type": "markdown",
   "metadata": {},
   "source": [
    "### String-2 > xyz_there \n",
    "\n",
    "Return True if the given string contains an appearance of \"xyz\" where the xyz is not directly preceeded by a period (.). So \"xxyz\" counts but \"x.xyz\" does not.\n",
    "\n",
    "\n",
    "- xyz_there('abcxyz') → True\n",
    "- xyz_there('abc.xyz') → False\n",
    "- xyz_there('xyz.abc') → True"
   ]
  },
  {
   "cell_type": "code",
   "execution_count": 25,
   "metadata": {},
   "outputs": [],
   "source": [
    "def xyz_there(str):\n",
    "    count = 0\n",
    "    for i in range(len(str)-2):\n",
    "        if i == 0 and str[i:i+3] == 'xyz':\n",
    "            count += 1\n",
    "        elif str[i:i+3] == 'xyz' and str[i-1] != '.':\n",
    "            count += 1\n",
    "            \n",
    "    return count != 0"
   ]
  }
 ],
 "metadata": {
  "kernelspec": {
   "display_name": "Python 3",
   "language": "python",
   "name": "python3"
  },
  "language_info": {
   "codemirror_mode": {
    "name": "ipython",
    "version": 3
   },
   "file_extension": ".py",
   "mimetype": "text/x-python",
   "name": "python",
   "nbconvert_exporter": "python",
   "pygments_lexer": "ipython3",
   "version": "3.7.3"
  }
 },
 "nbformat": 4,
 "nbformat_minor": 2
}
