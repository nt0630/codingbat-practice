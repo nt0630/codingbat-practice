{
 "cells": [
  {
   "cell_type": "markdown",
   "metadata": {},
   "source": [
    "https://codingbat.com/python/List-2\n",
    "\n",
    "Medium python list problems -- 1 loop.. Use a[0], a[1], ... to access elements in a list, len(a) is the length."
   ]
  },
  {
   "cell_type": "markdown",
   "metadata": {},
   "source": [
    "### List-2 > count_evens \n",
    "\n",
    "Return the number of even ints in the given array. Note: the % \"mod\" operator computes the remainder, e.g. 5 % 2 is 1.\n",
    "\n",
    "\n",
    "- count_evens([2, 1, 2, 3, 4]) → 3\n",
    "- count_evens([2, 2, 0]) → 3\n",
    "- count_evens([1, 3, 5]) → 0"
   ]
  },
  {
   "cell_type": "code",
   "execution_count": 1,
   "metadata": {},
   "outputs": [],
   "source": [
    "def count_evens(nums):\n",
    "    count = 0\n",
    "    for i in nums:\n",
    "        if i%2 == 0 : count += 1\n",
    "    return count"
   ]
  },
  {
   "cell_type": "markdown",
   "metadata": {},
   "source": [
    "### List-2 > sum13 \n",
    "\n",
    "Return the sum of the numbers in the array, returning 0 for an empty array. Except the number 13 is very unlucky, so it does not count and numbers that come immediately after a 13 also do not count.\n",
    "\n",
    "\n",
    "- sum13([1, 2, 2, 1]) → 6\n",
    "- sum13([1, 1]) → 2\n",
    "- sum13([1, 2, 2, 1, 13]) → 6"
   ]
  },
  {
   "cell_type": "code",
   "execution_count": 6,
   "metadata": {},
   "outputs": [],
   "source": [
    "def sum13(nums):\n",
    "    sum = 0\n",
    "    for i in range(len(nums)):\n",
    "        if i == 0:\n",
    "            if nums[i] == 13:\n",
    "                sum += 0\n",
    "            else: \n",
    "                sum += nums[i]\n",
    "        else:\n",
    "            if nums[i] == 13 or nums[i-1] ==13:\n",
    "                sum += 0\n",
    "            else: \n",
    "                sum += nums[i]\n",
    "\n",
    "    return sum"
   ]
  },
  {
   "cell_type": "code",
   "execution_count": 7,
   "metadata": {},
   "outputs": [],
   "source": [
    "# better solution\n",
    "\n",
    "def sum13(nums):\n",
    "    sum = 0\n",
    "    for i in range(len(nums)):\n",
    "        if nums[i] == 13 or (i > 0 and nums[i-1] == 13):\n",
    "            continue\n",
    "    sum += nums[i]\n",
    "    return sum"
   ]
  },
  {
   "cell_type": "markdown",
   "metadata": {},
   "source": [
    "### List-2 > big_diff \n",
    "\n",
    "Given an array length 1 or more of ints, return the difference between the largest and smallest values in the array. Note: the built-in min(v1, v2) and max(v1, v2) functions return the smaller or larger of two values.\n",
    "\n",
    "\n",
    "- big_diff([10, 3, 5, 6]) → 7\n",
    "- big_diff([7, 2, 10, 9]) → 8\n",
    "- big_diff([2, 10, 7, 2]) → 8"
   ]
  },
  {
   "cell_type": "code",
   "execution_count": 8,
   "metadata": {},
   "outputs": [],
   "source": [
    "def big_diff(nums):\n",
    "    min_v =nums[0]\n",
    "    max_v =nums[0]\n",
    "    for i in range(len(nums)-1):\n",
    "        min_v = min(min_v,nums[i+1])\n",
    "        max_v = max(max_v,nums[i+1])\n",
    "    return max_v-min_v"
   ]
  },
  {
   "cell_type": "markdown",
   "metadata": {},
   "source": [
    "### List-2 > sum67 \n",
    "\n",
    "Return the sum of the numbers in the array, except ignore sections of numbers starting with a 6 and extending to the next 7 (every 6 will be followed by at least one 7). Return 0 for no numbers.\n",
    "\n",
    "\n",
    "- sum67([1, 2, 2]) → 5\n",
    "- sum67([1, 2, 2, 6, 99, 99, 7]) → 5\n",
    "- sum67([1, 1, 6, 7, 2]) → 4"
   ]
  },
  {
   "cell_type": "code",
   "execution_count": 9,
   "metadata": {},
   "outputs": [],
   "source": [
    "def sum67(nums):\n",
    "    sum = 0\n",
    "    ignore = False\n",
    "    for i in range(len(nums)):\n",
    "        if nums[i] == 6:\n",
    "            ignore = True\n",
    "        if nums[i] == 7 and ignore == True:\n",
    "            ignore = False\n",
    "        else:\n",
    "            if ignore == False:\n",
    "                sum += nums[i]\n",
    "    return sum"
   ]
  },
  {
   "cell_type": "markdown",
   "metadata": {},
   "source": [
    "### List-2 > centered_average \n",
    "\n",
    "Return the \"centered\" average of an array of ints, which we'll say is the mean average of the values, except ignoring the largest and smallest values in the array. If there are multiple copies of the smallest value, ignore just one copy, and likewise for the largest value. Use int division to produce the final average. You may assume that the array is length 3 or more.\n",
    "\n",
    "\n",
    "- centered_average([1, 2, 3, 4, 100]) → 3\n",
    "- centered_average([1, 1, 5, 5, 10, 8, 7]) → 5\n",
    "- centered_average([-10, -4, -2, -4, -2, 0]) → -3"
   ]
  },
  {
   "cell_type": "code",
   "execution_count": 17,
   "metadata": {},
   "outputs": [],
   "source": [
    "def centered_average(nums):\n",
    "    max_v = nums[0]\n",
    "    min_v = nums[0]\n",
    "    for i in range(len(nums)-1):\n",
    "        max_v = max(max_v,nums[i+1])\n",
    "        min_v = min(min_v,nums[i+1])\n",
    "    return (sum(nums)-max_v-min_v)//(len(nums)-2)"
   ]
  },
  {
   "cell_type": "markdown",
   "metadata": {},
   "source": [
    "### List-2 > has22 \n",
    "\n",
    "Given an array of ints, return True if the array contains a 2 next to a 2 somewhere.\n",
    "\n",
    "\n",
    "- has22([1, 2, 2]) → True\n",
    "- has22([1, 2, 1, 2]) → False\n",
    "- has22([2, 1, 2]) → False"
   ]
  },
  {
   "cell_type": "code",
   "execution_count": 18,
   "metadata": {},
   "outputs": [],
   "source": [
    "def has22(nums):\n",
    "    tracker = ''\n",
    "    for i in range(len(nums)-1):\n",
    "        if nums[i] == 2 and nums[i+1] ==2:\n",
    "            tracker += 'y'\n",
    "    return 'y' in tracker"
   ]
  },
  {
   "cell_type": "code",
   "execution_count": 13,
   "metadata": {},
   "outputs": [],
   "source": [
    "# another solution\n",
    "\n",
    "def has22(nums):\n",
    "    answer = False\n",
    "    for i in range(len(nums)-1):\n",
    "        if nums[i] == 2 and nums[i+1] ==2:\n",
    "            answer = True\n",
    "    return answer"
   ]
  }
 ],
 "metadata": {
  "kernelspec": {
   "display_name": "Python 3",
   "language": "python",
   "name": "python3"
  },
  "language_info": {
   "codemirror_mode": {
    "name": "ipython",
    "version": 3
   },
   "file_extension": ".py",
   "mimetype": "text/x-python",
   "name": "python",
   "nbconvert_exporter": "python",
   "pygments_lexer": "ipython3",
   "version": "3.7.3"
  }
 },
 "nbformat": 4,
 "nbformat_minor": 2
}
