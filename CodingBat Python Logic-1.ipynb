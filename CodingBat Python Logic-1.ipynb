{
 "cells": [
  {
   "cell_type": "markdown",
   "metadata": {},
   "source": [
    "https://codingbat.com/python/Logic-1\n",
    "\n",
    "Basic boolean logic puzzles -- if else and or not"
   ]
  },
  {
   "cell_type": "markdown",
   "metadata": {},
   "source": [
    "### Logic-1 > cigar_party \n",
    "\n",
    "When squirrels get together for a party, they like to have cigars. A squirrel party is successful when the number of cigars is between 40 and 60, inclusive. Unless it is the weekend, in which case there is no upper bound on the number of cigars. Return True if the party with the given values is successful, or False otherwise.\n",
    "\n",
    "\n",
    "- cigar_party(30, False) → False\n",
    "- cigar_party(50, False) → True\n",
    "- cigar_party(70, True) → True"
   ]
  },
  {
   "cell_type": "code",
   "execution_count": null,
   "metadata": {},
   "outputs": [],
   "source": [
    "def cigar_party(cigars, is_weekend):\n",
    "    if is_weekend == False and cigars >=40 and cigars <=60:\n",
    "        return True\n",
    "    elif is_weekend == True and cigars >=40:\n",
    "        return True\n",
    "    else: \n",
    "        return False"
   ]
  },
  {
   "cell_type": "markdown",
   "metadata": {},
   "source": [
    "### Logic-1 > caught_speeding \n",
    "\n",
    "You are driving a little too fast, and a police officer stops you. Write code to compute the result, encoded as an int value: 0=no ticket, 1=small ticket, 2=big ticket. If speed is 60 or less, the result is 0. If speed is between 61 and 80 inclusive, the result is 1. If speed is 81 or more, the result is 2. Unless it is your birthday -- on that day, your speed can be 5 higher in all cases.\n",
    "\n",
    "\n",
    "- caught_speeding(60, False) → 0\n",
    "- caught_speeding(65, False) → 1\n",
    "- caught_speeding(65, True) → 0"
   ]
  },
  {
   "cell_type": "code",
   "execution_count": 1,
   "metadata": {},
   "outputs": [],
   "source": [
    "def caught_speeding(speed, is_birthday):\n",
    "    n=0\n",
    "    if is_birthday == True:\n",
    "        n =5\n",
    "    if speed <= 60+n:\n",
    "        return 0\n",
    "    elif speed <=81+n:\n",
    "        return 1\n",
    "    else: \n",
    "        return 2"
   ]
  },
  {
   "cell_type": "markdown",
   "metadata": {},
   "source": [
    "### Logic-1 > love6 \n",
    "\n",
    "The number 6 is a truly great number. Given two int values, a and b, return True if either one is 6. Or if their sum or difference is 6. Note: the function abs(num) computes the absolute value of a number.\n",
    "\n",
    "\n",
    "- love6(6, 4) → True\n",
    "- love6(4, 5) → False\n",
    "- love6(1, 5) → True"
   ]
  },
  {
   "cell_type": "code",
   "execution_count": 2,
   "metadata": {},
   "outputs": [],
   "source": [
    "def love6(a, b):\n",
    "    if a == 6 or b ==6 or a+b ==6 or a-b ==6 or b-a ==6:\n",
    "        return True\n",
    "    else: \n",
    "        return False"
   ]
  },
  {
   "cell_type": "markdown",
   "metadata": {},
   "source": [
    "### Logic-1 > date_fashion \n",
    "\n",
    "You and your date are trying to get a table at a restaurant. The parameter \"you\" is the stylishness of your clothes, in the range 0..10, and \"date\" is the stylishness of your date's clothes. The result getting the table is encoded as an int value with 0=no, 1=maybe, 2=yes. If either of you is very stylish, 8 or more, then the result is 2 (yes). With the exception that if either of you has style of 2 or less, then the result is 0 (no). Otherwise the result is 1 (maybe).\n",
    "\n",
    "\n",
    "- date_fashion(5, 10) → 2\n",
    "- date_fashion(5, 2) → 0\n",
    "- date_fashion(5, 5) → 1"
   ]
  },
  {
   "cell_type": "code",
   "execution_count": 3,
   "metadata": {},
   "outputs": [],
   "source": [
    "def date_fashion(you, date):\n",
    "    if you <=2 or date <=2:\n",
    "        return 0\n",
    "    elif you >=8 or date >=8:\n",
    "        return 2\n",
    "    else: \n",
    "        return 1"
   ]
  },
  {
   "cell_type": "markdown",
   "metadata": {},
   "source": [
    "### Logic-1 > sorta_sum \n",
    "\n",
    "Given 2 ints, a and b, return their sum. However, sums in the range 10..19 inclusive, are forbidden, so in that case just return 20.\n",
    "\n",
    "\n",
    "- sorta_sum(3, 4) → 7\n",
    "- sorta_sum(9, 4) → 20\n",
    "- sorta_sum(10, 11) → 21"
   ]
  },
  {
   "cell_type": "code",
   "execution_count": 4,
   "metadata": {},
   "outputs": [],
   "source": [
    "def sorta_sum(a, b):\n",
    "    if a+b >=10 and a+b<=19:\n",
    "        return 20\n",
    "    else:\n",
    "        return a+b"
   ]
  },
  {
   "cell_type": "markdown",
   "metadata": {},
   "source": [
    "### Logic-1 > in1to10 \n",
    "\n",
    "Given a number n, return True if n is in the range 1..10, inclusive. Unless outside_mode is True, in which case return True if the number is less or equal to 1, or greater or equal to 10.\n",
    "\n",
    "\n",
    "- in1to10(5, False) → True\n",
    "- in1to10(11, False) → False\n",
    "- in1to10(11, True) → True"
   ]
  },
  {
   "cell_type": "code",
   "execution_count": 5,
   "metadata": {},
   "outputs": [],
   "source": [
    "def in1to10(n, outside_mode):\n",
    "    if outside_mode == True:\n",
    "        return n<=1 or n>=10\n",
    "    else: \n",
    "        return n>=1 and n<=10"
   ]
  },
  {
   "cell_type": "markdown",
   "metadata": {},
   "source": [
    "### Logic-1 > squirrel_play \n",
    "\n",
    "The squirrels in Palo Alto spend most of the day playing. In particular, they play if the temperature is between 60 and 90 (inclusive). Unless it is summer, then the upper limit is 100 instead of 90. Given an int temperature and a boolean is_summer, return True if the squirrels play and False otherwise.\n",
    "\n",
    "\n",
    "- squirrel_play(70, False) → True\n",
    "- squirrel_play(95, False) → False\n",
    "- squirrel_play(95, True) → True"
   ]
  },
  {
   "cell_type": "code",
   "execution_count": 6,
   "metadata": {},
   "outputs": [],
   "source": [
    "def squirrel_play(temp, is_summer):\n",
    "    if is_summer == True:\n",
    "        return temp >=60 and temp <=100\n",
    "    else: \n",
    "        return temp >=60 and temp <=90"
   ]
  },
  {
   "cell_type": "markdown",
   "metadata": {},
   "source": [
    "### Logic-1 > alarm_clock \n",
    "\n",
    "Given a day of the week encoded as 0=Sun, 1=Mon, 2=Tue, ...6=Sat, and a boolean indicating if we are on vacation, return a string of the form \"7:00\" indicating when the alarm clock should ring. Weekdays, the alarm should be \"7:00\" and on the weekend it should be \"10:00\". Unless we are on vacation -- then on weekdays it should be \"10:00\" and weekends it should be \"off\".\n",
    "\n",
    "\n",
    "- alarm_clock(1, False) → '7:00'\n",
    "- alarm_clock(5, False) → '7:00'\n",
    "- alarm_clock(0, False) → '10:00'"
   ]
  },
  {
   "cell_type": "code",
   "execution_count": 7,
   "metadata": {},
   "outputs": [],
   "source": [
    "def alarm_clock(day, vacation):\n",
    "    if vacation == True and (day == 0 or day == 6):\n",
    "        return 'off'\n",
    "    elif vacation == False and day != 0 and day != 6:\n",
    "        return '7:00'\n",
    "    else: \n",
    "        return '10:00'"
   ]
  },
  {
   "cell_type": "markdown",
   "metadata": {},
   "source": [
    "### Logic-1 > near_ten \n",
    "\n",
    "Given a non-negative number \"num\", return True if num is within 2 of a multiple of 10. Note: (a % b) is the remainder of dividing a by b, so (7 % 5) is 2. See also: Introduction to Mod\n",
    "\n",
    "\n",
    "- near_ten(12) → True\n",
    "- near_ten(17) → False\n",
    "- near_ten(19) → True"
   ]
  },
  {
   "cell_type": "code",
   "execution_count": 8,
   "metadata": {},
   "outputs": [],
   "source": [
    "def near_ten(num):\n",
    "    output=\"\"\n",
    "    for r in range(-2,3):\n",
    "        if (num+r)%10 == 0:\n",
    "            output += '1'\n",
    "        else:\n",
    "            output += '0'\n",
    "    return '1' in output"
   ]
  }
 ],
 "metadata": {
  "kernelspec": {
   "display_name": "Python 3",
   "language": "python",
   "name": "python3"
  },
  "language_info": {
   "codemirror_mode": {
    "name": "ipython",
    "version": 3
   },
   "file_extension": ".py",
   "mimetype": "text/x-python",
   "name": "python",
   "nbconvert_exporter": "python",
   "pygments_lexer": "ipython3",
   "version": "3.7.3"
  }
 },
 "nbformat": 4,
 "nbformat_minor": 2
}
